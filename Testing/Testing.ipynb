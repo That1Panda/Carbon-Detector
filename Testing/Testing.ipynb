{
 "cells": [
  {
   "cell_type": "code",
   "execution_count": 1,
   "id": "6b0a7f51",
   "metadata": {},
   "outputs": [],
   "source": [
    "import pandas as pd\n",
    "import numpy as np\n",
    "import matplotlib.pyplot as plt\n",
    "import cv2 as cv\n",
    "import PIL\n",
    "from io import BytesIO\n",
    "from IPython.display import clear_output, Image as NoteImage, display"
   ]
  },
  {
   "cell_type": "code",
   "execution_count": 2,
   "id": "e6e35f33",
   "metadata": {},
   "outputs": [],
   "source": [
    "%matplotlib notebook\n",
    "def imshow(im,fmt='jpeg'):\n",
    "    #a = np.uint8(np.clip(im, 0, 255))\n",
    "    f = BytesIO()\n",
    "    PIL.Image.fromarray(im).save(f, fmt)\n",
    "    display(NoteImage(data=f.getvalue()))\n",
    "def imread(filename):\n",
    "    img = cv.imread(filename)\n",
    "    img = cv.cvtColor(img, cv.COLOR_BGR2RGB)\n",
    "    return img"
   ]
  },
  {
   "cell_type": "code",
   "execution_count": 3,
   "id": "7ee89245",
   "metadata": {},
   "outputs": [
    {
     "data": {
      "text/html": [
       "<div>\n",
       "<style scoped>\n",
       "    .dataframe tbody tr th:only-of-type {\n",
       "        vertical-align: middle;\n",
       "    }\n",
       "\n",
       "    .dataframe tbody tr th {\n",
       "        vertical-align: top;\n",
       "    }\n",
       "\n",
       "    .dataframe thead th {\n",
       "        text-align: right;\n",
       "    }\n",
       "</style>\n",
       "<table border=\"1\" class=\"dataframe\">\n",
       "  <thead>\n",
       "    <tr style=\"text-align: right;\">\n",
       "      <th></th>\n",
       "      <th>source_id</th>\n",
       "      <th>plume_lat</th>\n",
       "      <th>plume_lon</th>\n",
       "      <th>plume_candidate_id</th>\n",
       "      <th>date_of_detection</th>\n",
       "      <th>time_of_detection</th>\n",
       "      <th>source_type</th>\n",
       "      <th>source_type_label</th>\n",
       "      <th>ipcc</th>\n",
       "      <th>qplume</th>\n",
       "      <th>sigma_qplume</th>\n",
       "      <th>active_flare</th>\n",
       "      <th>inactive_flare</th>\n",
       "      <th>Operator_Alias</th>\n",
       "      <th>imageurl</th>\n",
       "    </tr>\n",
       "  </thead>\n",
       "  <tbody>\n",
       "    <tr>\n",
       "      <th>0</th>\n",
       "      <td>P00156</td>\n",
       "      <td>32.283447</td>\n",
       "      <td>-103.741815</td>\n",
       "      <td>ang20190922t192642-A</td>\n",
       "      <td>9/23/2019</td>\n",
       "      <td>7:26:42 PM</td>\n",
       "      <td>compressor</td>\n",
       "      <td>Midstream</td>\n",
       "      <td>1B2 Oil &amp; Natural Gas</td>\n",
       "      <td>296.676732</td>\n",
       "      <td>98.755811</td>\n",
       "      <td>False</td>\n",
       "      <td>False</td>\n",
       "      <td>DCP MIDSTREAM PARTNERS</td>\n",
       "      <td>https://edf-permian-data.s3.amazonaws.com/imag...</td>\n",
       "    </tr>\n",
       "    <tr>\n",
       "      <th>1</th>\n",
       "      <td>P00119</td>\n",
       "      <td>32.244361</td>\n",
       "      <td>-103.711379</td>\n",
       "      <td>ang20190922t192642-B</td>\n",
       "      <td>9/23/2019</td>\n",
       "      <td>7:26:42 PM</td>\n",
       "      <td>tank</td>\n",
       "      <td>Production</td>\n",
       "      <td>1B2 Oil &amp; Natural Gas</td>\n",
       "      <td>640.968143</td>\n",
       "      <td>190.138173</td>\n",
       "      <td>False</td>\n",
       "      <td>False</td>\n",
       "      <td>DEVON ENERGY PRODUCTION CO</td>\n",
       "      <td>https://edf-permian-data.s3.amazonaws.com/imag...</td>\n",
       "    </tr>\n",
       "    <tr>\n",
       "      <th>2</th>\n",
       "      <td>P00475</td>\n",
       "      <td>32.166625</td>\n",
       "      <td>-103.685468</td>\n",
       "      <td>ang20190922t194340-A</td>\n",
       "      <td>9/23/2019</td>\n",
       "      <td>7:43:40 PM</td>\n",
       "      <td>tank</td>\n",
       "      <td>Production</td>\n",
       "      <td>1B2 Oil &amp; Natural Gas</td>\n",
       "      <td>1091.242729</td>\n",
       "      <td>310.028504</td>\n",
       "      <td>False</td>\n",
       "      <td>False</td>\n",
       "      <td>DEVON ENERGY PRODUCTION CO</td>\n",
       "      <td>https://edf-permian-data.s3.amazonaws.com/imag...</td>\n",
       "    </tr>\n",
       "    <tr>\n",
       "      <th>3</th>\n",
       "      <td>P00002</td>\n",
       "      <td>32.200072</td>\n",
       "      <td>-103.673301</td>\n",
       "      <td>ang20190922t192642-4</td>\n",
       "      <td>9/23/2019</td>\n",
       "      <td>7:26:42 PM</td>\n",
       "      <td>tank</td>\n",
       "      <td>Production</td>\n",
       "      <td>1B2 Oil &amp; Natural Gas</td>\n",
       "      <td>420.725207</td>\n",
       "      <td>147.155782</td>\n",
       "      <td>False</td>\n",
       "      <td>False</td>\n",
       "      <td>ENLINK</td>\n",
       "      <td>https://edf-permian-data.s3.amazonaws.com/imag...</td>\n",
       "    </tr>\n",
       "    <tr>\n",
       "      <th>4</th>\n",
       "      <td>P00003</td>\n",
       "      <td>32.116008</td>\n",
       "      <td>-103.626345</td>\n",
       "      <td>ang20190922t192642-5</td>\n",
       "      <td>9/23/2019</td>\n",
       "      <td>7:26:42 PM</td>\n",
       "      <td>tank</td>\n",
       "      <td>Production</td>\n",
       "      <td>1B2 Oil &amp; Natural Gas</td>\n",
       "      <td>1051.909600</td>\n",
       "      <td>339.267587</td>\n",
       "      <td>False</td>\n",
       "      <td>False</td>\n",
       "      <td>EOG RESOURCES INC</td>\n",
       "      <td>https://edf-permian-data.s3.amazonaws.com/imag...</td>\n",
       "    </tr>\n",
       "    <tr>\n",
       "      <th>...</th>\n",
       "      <td>...</td>\n",
       "      <td>...</td>\n",
       "      <td>...</td>\n",
       "      <td>...</td>\n",
       "      <td>...</td>\n",
       "      <td>...</td>\n",
       "      <td>...</td>\n",
       "      <td>...</td>\n",
       "      <td>...</td>\n",
       "      <td>...</td>\n",
       "      <td>...</td>\n",
       "      <td>...</td>\n",
       "      <td>...</td>\n",
       "      <td>...</td>\n",
       "      <td>...</td>\n",
       "    </tr>\n",
       "    <tr>\n",
       "      <th>3062</th>\n",
       "      <td>P01769</td>\n",
       "      <td>31.478768</td>\n",
       "      <td>-102.958800</td>\n",
       "      <td>GAO20191103t163539p0000-C</td>\n",
       "      <td>11/4/2019</td>\n",
       "      <td>4:35:39 PM</td>\n",
       "      <td>compressor</td>\n",
       "      <td>Midstream</td>\n",
       "      <td>1B2 Oil &amp; Natural Gas</td>\n",
       "      <td>159.291858</td>\n",
       "      <td>64.873698</td>\n",
       "      <td>False</td>\n",
       "      <td>False</td>\n",
       "      <td>UNKNOWN</td>\n",
       "      <td>https://edf-permian-data.s3.amazonaws.com/imag...</td>\n",
       "    </tr>\n",
       "    <tr>\n",
       "      <th>3063</th>\n",
       "      <td>P01784</td>\n",
       "      <td>32.793745</td>\n",
       "      <td>-104.123650</td>\n",
       "      <td>GAO20191103t181042p0000-A</td>\n",
       "      <td>11/4/2019</td>\n",
       "      <td>6:10:42 PM</td>\n",
       "      <td>pipeline</td>\n",
       "      <td>Midstream</td>\n",
       "      <td>1B2 Oil &amp; Natural Gas</td>\n",
       "      <td>250.722494</td>\n",
       "      <td>51.888206</td>\n",
       "      <td>False</td>\n",
       "      <td>False</td>\n",
       "      <td>UNKNOWN</td>\n",
       "      <td>https://edf-permian-data.s3.amazonaws.com/imag...</td>\n",
       "    </tr>\n",
       "    <tr>\n",
       "      <th>3064</th>\n",
       "      <td>P01784</td>\n",
       "      <td>32.793674</td>\n",
       "      <td>-104.123290</td>\n",
       "      <td>GAO20191103t182306p0000-B</td>\n",
       "      <td>11/4/2019</td>\n",
       "      <td>6:23:06 PM</td>\n",
       "      <td>pipeline</td>\n",
       "      <td>Midstream</td>\n",
       "      <td>1B2 Oil &amp; Natural Gas</td>\n",
       "      <td>298.184474</td>\n",
       "      <td>68.096895</td>\n",
       "      <td>False</td>\n",
       "      <td>False</td>\n",
       "      <td>UNKNOWN</td>\n",
       "      <td>https://edf-permian-data.s3.amazonaws.com/imag...</td>\n",
       "    </tr>\n",
       "    <tr>\n",
       "      <th>3065</th>\n",
       "      <td>P01786</td>\n",
       "      <td>32.795682</td>\n",
       "      <td>-104.163570</td>\n",
       "      <td>GAO20191103t182306p0000-C</td>\n",
       "      <td>11/4/2019</td>\n",
       "      <td>6:23:06 PM</td>\n",
       "      <td>pipeline</td>\n",
       "      <td>Midstream</td>\n",
       "      <td>1B2 Oil &amp; Natural Gas</td>\n",
       "      <td>200.567906</td>\n",
       "      <td>36.274204</td>\n",
       "      <td>False</td>\n",
       "      <td>False</td>\n",
       "      <td>UNKNOWN</td>\n",
       "      <td>https://edf-permian-data.s3.amazonaws.com/imag...</td>\n",
       "    </tr>\n",
       "    <tr>\n",
       "      <th>3066</th>\n",
       "      <td>P01798</td>\n",
       "      <td>33.000738</td>\n",
       "      <td>-103.994360</td>\n",
       "      <td>GAO20191104t151705p0000-A</td>\n",
       "      <td>11/5/2019</td>\n",
       "      <td>3:17:05 PM</td>\n",
       "      <td>compressor</td>\n",
       "      <td>Midstream</td>\n",
       "      <td>1B2 Oil &amp; Natural Gas</td>\n",
       "      <td>174.266195</td>\n",
       "      <td>130.050385</td>\n",
       "      <td>False</td>\n",
       "      <td>False</td>\n",
       "      <td>DURANGO MIDSTREAM</td>\n",
       "      <td>https://edf-permian-data.s3.amazonaws.com/imag...</td>\n",
       "    </tr>\n",
       "  </tbody>\n",
       "</table>\n",
       "<p>3067 rows × 15 columns</p>\n",
       "</div>"
      ],
      "text/plain": [
       "     source_id  plume_lat   plume_lon         plume_candidate_id  \\\n",
       "0       P00156  32.283447 -103.741815       ang20190922t192642-A   \n",
       "1       P00119  32.244361 -103.711379       ang20190922t192642-B   \n",
       "2       P00475  32.166625 -103.685468       ang20190922t194340-A   \n",
       "3       P00002  32.200072 -103.673301       ang20190922t192642-4   \n",
       "4       P00003  32.116008 -103.626345       ang20190922t192642-5   \n",
       "...        ...        ...         ...                        ...   \n",
       "3062    P01769  31.478768 -102.958800  GAO20191103t163539p0000-C   \n",
       "3063    P01784  32.793745 -104.123650  GAO20191103t181042p0000-A   \n",
       "3064    P01784  32.793674 -104.123290  GAO20191103t182306p0000-B   \n",
       "3065    P01786  32.795682 -104.163570  GAO20191103t182306p0000-C   \n",
       "3066    P01798  33.000738 -103.994360  GAO20191104t151705p0000-A   \n",
       "\n",
       "     date_of_detection time_of_detection source_type source_type_label  \\\n",
       "0            9/23/2019        7:26:42 PM  compressor         Midstream   \n",
       "1            9/23/2019        7:26:42 PM        tank        Production   \n",
       "2            9/23/2019        7:43:40 PM        tank        Production   \n",
       "3            9/23/2019        7:26:42 PM        tank        Production   \n",
       "4            9/23/2019        7:26:42 PM        tank        Production   \n",
       "...                ...               ...         ...               ...   \n",
       "3062         11/4/2019        4:35:39 PM  compressor         Midstream   \n",
       "3063         11/4/2019        6:10:42 PM    pipeline         Midstream   \n",
       "3064         11/4/2019        6:23:06 PM    pipeline         Midstream   \n",
       "3065         11/4/2019        6:23:06 PM    pipeline         Midstream   \n",
       "3066         11/5/2019        3:17:05 PM  compressor         Midstream   \n",
       "\n",
       "                       ipcc       qplume  sigma_qplume  active_flare  \\\n",
       "0     1B2 Oil & Natural Gas   296.676732     98.755811         False   \n",
       "1     1B2 Oil & Natural Gas   640.968143    190.138173         False   \n",
       "2     1B2 Oil & Natural Gas  1091.242729    310.028504         False   \n",
       "3     1B2 Oil & Natural Gas   420.725207    147.155782         False   \n",
       "4     1B2 Oil & Natural Gas  1051.909600    339.267587         False   \n",
       "...                     ...          ...           ...           ...   \n",
       "3062  1B2 Oil & Natural Gas   159.291858     64.873698         False   \n",
       "3063  1B2 Oil & Natural Gas   250.722494     51.888206         False   \n",
       "3064  1B2 Oil & Natural Gas   298.184474     68.096895         False   \n",
       "3065  1B2 Oil & Natural Gas   200.567906     36.274204         False   \n",
       "3066  1B2 Oil & Natural Gas   174.266195    130.050385         False   \n",
       "\n",
       "      inactive_flare              Operator_Alias  \\\n",
       "0              False      DCP MIDSTREAM PARTNERS   \n",
       "1              False  DEVON ENERGY PRODUCTION CO   \n",
       "2              False  DEVON ENERGY PRODUCTION CO   \n",
       "3              False                      ENLINK   \n",
       "4              False           EOG RESOURCES INC   \n",
       "...              ...                         ...   \n",
       "3062           False                     UNKNOWN   \n",
       "3063           False                     UNKNOWN   \n",
       "3064           False                     UNKNOWN   \n",
       "3065           False                     UNKNOWN   \n",
       "3066           False           DURANGO MIDSTREAM   \n",
       "\n",
       "                                               imageurl  \n",
       "0     https://edf-permian-data.s3.amazonaws.com/imag...  \n",
       "1     https://edf-permian-data.s3.amazonaws.com/imag...  \n",
       "2     https://edf-permian-data.s3.amazonaws.com/imag...  \n",
       "3     https://edf-permian-data.s3.amazonaws.com/imag...  \n",
       "4     https://edf-permian-data.s3.amazonaws.com/imag...  \n",
       "...                                                 ...  \n",
       "3062  https://edf-permian-data.s3.amazonaws.com/imag...  \n",
       "3063  https://edf-permian-data.s3.amazonaws.com/imag...  \n",
       "3064  https://edf-permian-data.s3.amazonaws.com/imag...  \n",
       "3065  https://edf-permian-data.s3.amazonaws.com/imag...  \n",
       "3066  https://edf-permian-data.s3.amazonaws.com/imag...  \n",
       "\n",
       "[3067 rows x 15 columns]"
      ]
     },
     "execution_count": 3,
     "metadata": {},
     "output_type": "execute_result"
    }
   ],
   "source": [
    "data=pd.read_csv(\"Fall 2019 Plumes detected by AVIRIS-NG and GAO provided by NASA-JPL and U.Arizona.csv\")\n",
    "data"
   ]
  },
  {
   "cell_type": "code",
   "execution_count": 4,
   "id": "cbd71406",
   "metadata": {},
   "outputs": [
    {
     "data": {
      "image/jpeg": "[encoded data removed]",
      "text/plain": [
       "<IPython.core.display.Image object>"
      ]
     },
     "metadata": {},
     "output_type": "display_data"
    },
    {
     "name": "stdout",
     "output_type": "stream",
     "text": [
      "(211, 211, 3)\n"
     ]
    }
   ],
   "source": [
    "img=imread(\"ang20190922t192642-A.png\")\n",
    "#img=imread(\"Screenshot from 2022-12-01 10-51-49.png\")\n",
    "imshow(img)\n",
    "print(img.shape)"
   ]
  },
  {
   "cell_type": "code",
   "execution_count": 5,
   "id": "9a1aad71",
   "metadata": {},
   "outputs": [],
   "source": [
    "real_img=np.zeros((211,211,3))\n",
    "#real_img=np.zeros((508,510,3))"
   ]
  },
  {
   "cell_type": "code",
   "execution_count": 6,
   "id": "d63f0549",
   "metadata": {},
   "outputs": [
    {
     "data": {
      "image/jpeg": "[encoded data removed]",
      "text/plain": [
       "<IPython.core.display.Image object>"
      ]
     },
     "metadata": {},
     "output_type": "display_data"
    }
   ],
   "source": [
    "real_img[:,:,0]=img[:,:,0]\n",
    "real_img[:,:,1]=img[:,:,1]\n",
    "real_img[:,:,2]=img[:,:,2]\n",
    "imshow(np.uint8(real_img))"
   ]
  },
  {
   "cell_type": "code",
   "execution_count": 10,
   "id": "a6eaf6db",
   "metadata": {},
   "outputs": [],
   "source": [
    "red=img[:,:,0]\n",
    "green=img[:,:,1]\n",
    "blue=img[:,:,2]"
   ]
  },
  {
   "cell_type": "code",
   "execution_count": 11,
   "id": "20962566",
   "metadata": {},
   "outputs": [],
   "source": [
    "# b=np.where(blue > 220, blue, 0)\n",
    "# b=np.where(b ==0, b, 255)\n"
   ]
  },
  {
   "cell_type": "code",
   "execution_count": 12,
   "id": "442740bd",
   "metadata": {},
   "outputs": [],
   "source": [
    "# imshow(b)"
   ]
  },
  {
   "cell_type": "code",
   "execution_count": 13,
   "id": "18b66a18",
   "metadata": {},
   "outputs": [],
   "source": [
    "# # g=np.where(green > 220, green, 0)\n",
    "# g=np.where(g ==0, g, 255)\n",
    "# imshow(g)"
   ]
  },
  {
   "cell_type": "code",
   "execution_count": 14,
   "id": "07787676",
   "metadata": {},
   "outputs": [],
   "source": [
    "# r=np.where(red > 220, red, 0)\n",
    "# r=np.where(r ==0, r, 255)\n",
    "\n",
    "# imshow(r)"
   ]
  },
  {
   "cell_type": "code",
   "execution_count": 15,
   "id": "f52f8cb1",
   "metadata": {},
   "outputs": [],
   "source": [
    "# real_img[:,:,0]=r\n",
    "# real_img[:,:,1]=g\n",
    "# real_img[:,:,2]=b\n",
    "# imshow(np.uint8(real_img))"
   ]
  },
  {
   "cell_type": "code",
   "execution_count": 16,
   "id": "e7d75a02",
   "metadata": {},
   "outputs": [],
   "source": [
    "# imshow(blue>220)"
   ]
  },
  {
   "cell_type": "code",
   "execution_count": 17,
   "id": "09137100",
   "metadata": {},
   "outputs": [],
   "source": [
    "# imshow(green<220)"
   ]
  },
  {
   "cell_type": "code",
   "execution_count": 18,
   "id": "2326287e",
   "metadata": {},
   "outputs": [],
   "source": [
    "# np.uint8(blue>220)"
   ]
  },
  {
   "cell_type": "code",
   "execution_count": 19,
   "id": "27d9e663",
   "metadata": {},
   "outputs": [],
   "source": [
    "# np.uint8(green<220)"
   ]
  },
  {
   "cell_type": "code",
   "execution_count": 20,
   "id": "cb6120ba",
   "metadata": {},
   "outputs": [
    {
     "data": {
      "image/jpeg": "[encoded data removed]",
      "text/plain": [
       "<IPython.core.display.Image object>"
      ]
     },
     "metadata": {},
     "output_type": "display_data"
    }
   ],
   "source": [
    "only_blue_carbon=np.uint8(blue>220)*np.uint8(green<120)*np.uint8(red<120)*255\n",
    "imshow(only_blue_carbon)"
   ]
  },
  {
   "cell_type": "code",
   "execution_count": 21,
   "id": "7a8d8cd5",
   "metadata": {},
   "outputs": [
    {
     "data": {
      "image/jpeg": "[encoded data removed]",
      "text/plain": [
       "<IPython.core.display.Image object>"
      ]
     },
     "metadata": {},
     "output_type": "display_data"
    }
   ],
   "source": [
    "only_green_carbon=np.uint8(blue<120)*np.uint8(green>220)*np.uint8(red<120)*255\n",
    "imshow(only_green_carbon)"
   ]
  },
  {
   "cell_type": "code",
   "execution_count": 22,
   "id": "45b269d5",
   "metadata": {},
   "outputs": [
    {
     "data": {
      "image/jpeg": "[encoded data removed]",
      "text/plain": [
       "<IPython.core.display.Image object>"
      ]
     },
     "metadata": {},
     "output_type": "display_data"
    }
   ],
   "source": [
    "only_red_carbon=np.uint8(blue<120)*np.uint8(green<120)*np.uint8(red>220)*255\n",
    "imshow(only_red_carbon)"
   ]
  },
  {
   "cell_type": "code",
   "execution_count": 23,
   "id": "d53ef5b8",
   "metadata": {},
   "outputs": [
    {
     "data": {
      "image/jpeg": "[encoded data removed]",
      "text/plain": [
       "<IPython.core.display.Image object>"
      ]
     },
     "metadata": {},
     "output_type": "display_data"
    }
   ],
   "source": [
    "real_img[:,:,0]=only_red_carbon\n",
    "real_img[:,:,1]=only_green_carbon\n",
    "real_img[:,:,2]=only_blue_carbon\n",
    "imshow(np.uint8(real_img))"
   ]
  },
  {
   "cell_type": "code",
   "execution_count": 29,
   "id": "8a892ce7",
   "metadata": {},
   "outputs": [],
   "source": [
    "def flare_extractor(img):\n",
    "#     img=imread(\"ang20190922t192642-A.png\")\n",
    "    x,y,c=img.shape\n",
    "    real_img=np.zeros((x,y,c))\n",
    "    red=img[:,:,0]\n",
    "    green=img[:,:,1]\n",
    "    blue=img[:,:,2]\n",
    "    only_blue_carbon=np.uint8(blue>220)*np.uint8(green<120)*np.uint8(red<120)\n",
    "    only_blue_carbon_sum=np.sum(only_blue_carbon)\n",
    "#     imshow(only_blue_carbon)\n",
    "    only_green_carbon=np.uint8(blue<150)*np.uint8(green>150)*np.uint8(red<150)\n",
    "#     imshow(only_green_carbon)\n",
    "    only_green_carbon_sum=np.sum(only_green_carbon)\n",
    "    only_red_carbon=np.uint8(blue<120)*np.uint8(green<120)*np.uint8(red>220)\n",
    "    only_red_carbon_sum=np.sum(only_red_carbon)\n",
    "    only_yellow_carbon=np.uint8(blue<120)*np.uint8(green>220)*np.uint8(red>220)*255\n",
    "\n",
    "#     imshow(only_red_carbon)\n",
    "    real_img[:,:,0]=only_red_carbon*255\n",
    "    real_img[:,:,1]=only_green_carbon*255\n",
    "    real_img[:,:,2]=only_blue_carbon*255\n",
    "    # real_img[:,:,0]=only_red_carbon+only_yellow_carbon\n",
    "    # real_img[:,:,0]=only_green_carbon+only_yellow_carbon\n",
    "    out=np.uint8(real_img)\n",
    "    imshow(out)\n",
    "    return out,only_red_carbon_sum, only_green_carbon_sum, only_blue_carbon_sum"
   ]
  },
  {
   "cell_type": "code",
   "execution_count": 30,
   "id": "7653de42",
   "metadata": {},
   "outputs": [
    {
     "data": {
      "image/jpeg": "[encoded data removed]",
      "text/plain": [
       "<IPython.core.display.Image object>"
      ]
     },
     "metadata": {},
     "output_type": "display_data"
    },
    {
     "data": {
      "image/jpeg": "[encoded data removed]",
      "text/plain": [
       "<IPython.core.display.Image object>"
      ]
     },
     "metadata": {},
     "output_type": "display_data"
    },
    {
     "data": {
      "text/plain": [
       "(0, 12, 155)"
      ]
     },
     "execution_count": 30,
     "metadata": {},
     "output_type": "execute_result"
    }
   ],
   "source": [
    "imshow(img)\n",
    "img,r,g,b=flare_extractor(img)\n",
    "r,g,b"
   ]
  },
  {
   "cell_type": "code",
   "execution_count": 32,
   "id": "c2a38c81",
   "metadata": {},
   "outputs": [
    {
     "data": {
      "image/jpeg": "[encoded data removed]",
      "text/plain": [
       "<IPython.core.display.Image object>"
      ]
     },
     "metadata": {},
     "output_type": "display_data"
    },
    {
     "data": {
      "image/jpeg": "[encoded data removed]",
      "text/plain": [
       "<IPython.core.display.Image object>"
      ]
     },
     "metadata": {},
     "output_type": "display_data"
    },
    {
     "data": {
      "text/plain": [
       "6"
      ]
     },
     "execution_count": 32,
     "metadata": {},
     "output_type": "execute_result"
    }
   ],
   "source": [
    "img2=imread(\"ang20190922t192642-B.png\")\n",
    "imshow(img2)\n",
    "img,r,g,b=flare_extractor(img2)\n",
    "r"
   ]
  },
  {
   "cell_type": "code",
   "execution_count": 56,
   "id": "ed2887e4",
   "metadata": {},
   "outputs": [
    {
     "data": {
      "image/jpeg": "[encoded data removed]",
      "text/plain": [
       "<IPython.core.display.Image object>"
      ]
     },
     "metadata": {},
     "output_type": "display_data"
    },
    {
     "data": {
      "image/jpeg": "[encoded data removed]",
      "text/plain": [
       "<IPython.core.display.Image object>"
      ]
     },
     "metadata": {},
     "output_type": "display_data"
    },
    {
     "data": {
      "text/plain": [
       "(3909963, 3611099, 3199567)"
      ]
     },
     "execution_count": 56,
     "metadata": {},
     "output_type": "execute_result"
    }
   ],
   "source": [
    "img2=imread(\"images/processing-87.png\")\n",
    "imshow(img2)\n",
    "flare_extractor(img2)\n",
    "img2[:,:,0].sum(),img2[:,:,1].sum(),img2[:,:,2].sum()"
   ]
  }
 ],
 "metadata": {
  "kernelspec": {
   "display_name": "carbon_detector",
   "language": "python",
   "name": "python3"
  },
  "language_info": {
   "codemirror_mode": {
    "name": "ipython",
    "version": 3
   },
   "file_extension": ".py",
   "mimetype": "text/x-python",
   "name": "python",
   "nbconvert_exporter": "python",
   "pygments_lexer": "ipython3",
   "version": "3.10.8 (main, Nov 24 2022, 14:13:03) [GCC 11.2.0]"
  },
  "vscode": {
   "interpreter": {
    "hash": "1c21fea1ab5b26fc8fe49e9f100dda26d26e019ac9359944bd70ca5265ff9dd6"
   }
  }
 },
 "nbformat": 4,
 "nbformat_minor": 5
}
